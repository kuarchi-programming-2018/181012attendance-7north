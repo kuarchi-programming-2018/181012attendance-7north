{
 "cells": [
  {
   "cell_type": "code",
   "execution_count": 8,
   "metadata": {},
   "outputs": [
    {
     "name": "stdout",
     "output_type": "stream",
     "text": [
      "2018\n",
      "n=2018\n",
      "n以下で最大のフィボナッチ数 argfib(n)=1597\n"
     ]
    }
   ],
   "source": [
    "def fib(n):\n",
    "    a, b = 0, 1\n",
    "    for i in range(n):\n",
    "        a, b = b, a + b\n",
    "    return b\n",
    "\n",
    "#print([fib(i) for i in range(num)])  #n =整数\n",
    "num=int(input())\n",
    "\n",
    "i = 0\n",
    "while True:\n",
    "    if fib(i) >= num: break\n",
    "    i += 1\n",
    "\n",
    "print(\"n=\" +str(num))\n",
    "print(\"n以下で最大のフィボナッチ数 argfib(n)=\" +str(fib(i-1)))\n"
   ]
  },
  {
   "cell_type": "code",
   "execution_count": null,
   "metadata": {},
   "outputs": [],
   "source": []
  }
 ],
 "metadata": {
  "kernelspec": {
   "display_name": "Python 3",
   "language": "python",
   "name": "python3"
  },
  "language_info": {
   "codemirror_mode": {
    "name": "ipython",
    "version": 3
   },
   "file_extension": ".py",
   "mimetype": "text/x-python",
   "name": "python",
   "nbconvert_exporter": "python",
   "pygments_lexer": "ipython3",
   "version": "3.7.0"
  }
 },
 "nbformat": 4,
 "nbformat_minor": 2
}
